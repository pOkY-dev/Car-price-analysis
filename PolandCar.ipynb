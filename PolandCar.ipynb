{
 "cells": [
  {
   "cell_type": "code",
   "execution_count": 1,
   "id": "d11a9cba-7f69-4008-aaf4-c3345c7b4567",
   "metadata": {},
   "outputs": [],
   "source": [
    "#Імпоруємо основні бібліотеки\n",
    "import pandas as pd\n",
    "import numpy as np\n",
    "import matplotlib.pyplot as plt\n",
    "import seaborn as sns"
   ]
  },
  {
   "cell_type": "code",
   "execution_count": 2,
   "id": "e15b0e08-d854-477a-9a48-6883dd80f0e4",
   "metadata": {},
   "outputs": [
    {
     "data": {
      "text/html": [
       "<div>\n",
       "<style scoped>\n",
       "    .dataframe tbody tr th:only-of-type {\n",
       "        vertical-align: middle;\n",
       "    }\n",
       "\n",
       "    .dataframe tbody tr th {\n",
       "        vertical-align: top;\n",
       "    }\n",
       "\n",
       "    .dataframe thead th {\n",
       "        text-align: right;\n",
       "    }\n",
       "</style>\n",
       "<table border=\"1\" class=\"dataframe\">\n",
       "  <thead>\n",
       "    <tr style=\"text-align: right;\">\n",
       "      <th></th>\n",
       "      <th>Unnamed: 0</th>\n",
       "      <th>mark</th>\n",
       "      <th>model</th>\n",
       "      <th>generation_name</th>\n",
       "      <th>year</th>\n",
       "      <th>mileage</th>\n",
       "      <th>vol_engine</th>\n",
       "      <th>fuel</th>\n",
       "      <th>city</th>\n",
       "      <th>province</th>\n",
       "      <th>price</th>\n",
       "    </tr>\n",
       "  </thead>\n",
       "  <tbody>\n",
       "    <tr>\n",
       "      <th>0</th>\n",
       "      <td>0</td>\n",
       "      <td>opel</td>\n",
       "      <td>combo</td>\n",
       "      <td>gen-d-2011</td>\n",
       "      <td>2015</td>\n",
       "      <td>139568</td>\n",
       "      <td>1248</td>\n",
       "      <td>Diesel</td>\n",
       "      <td>Janki</td>\n",
       "      <td>Mazowieckie</td>\n",
       "      <td>35900</td>\n",
       "    </tr>\n",
       "    <tr>\n",
       "      <th>1</th>\n",
       "      <td>1</td>\n",
       "      <td>opel</td>\n",
       "      <td>combo</td>\n",
       "      <td>gen-d-2011</td>\n",
       "      <td>2018</td>\n",
       "      <td>31991</td>\n",
       "      <td>1499</td>\n",
       "      <td>Diesel</td>\n",
       "      <td>Katowice</td>\n",
       "      <td>Śląskie</td>\n",
       "      <td>78501</td>\n",
       "    </tr>\n",
       "    <tr>\n",
       "      <th>2</th>\n",
       "      <td>2</td>\n",
       "      <td>opel</td>\n",
       "      <td>combo</td>\n",
       "      <td>gen-d-2011</td>\n",
       "      <td>2015</td>\n",
       "      <td>278437</td>\n",
       "      <td>1598</td>\n",
       "      <td>Diesel</td>\n",
       "      <td>Brzeg</td>\n",
       "      <td>Opolskie</td>\n",
       "      <td>27000</td>\n",
       "    </tr>\n",
       "    <tr>\n",
       "      <th>3</th>\n",
       "      <td>3</td>\n",
       "      <td>opel</td>\n",
       "      <td>combo</td>\n",
       "      <td>gen-d-2011</td>\n",
       "      <td>2016</td>\n",
       "      <td>47600</td>\n",
       "      <td>1248</td>\n",
       "      <td>Diesel</td>\n",
       "      <td>Korfantów</td>\n",
       "      <td>Opolskie</td>\n",
       "      <td>30800</td>\n",
       "    </tr>\n",
       "    <tr>\n",
       "      <th>4</th>\n",
       "      <td>4</td>\n",
       "      <td>opel</td>\n",
       "      <td>combo</td>\n",
       "      <td>gen-d-2011</td>\n",
       "      <td>2014</td>\n",
       "      <td>103000</td>\n",
       "      <td>1400</td>\n",
       "      <td>CNG</td>\n",
       "      <td>Tarnowskie Góry</td>\n",
       "      <td>Śląskie</td>\n",
       "      <td>35900</td>\n",
       "    </tr>\n",
       "  </tbody>\n",
       "</table>\n",
       "</div>"
      ],
      "text/plain": [
       "   Unnamed: 0  mark  model generation_name  year  mileage  vol_engine    fuel  \\\n",
       "0           0  opel  combo      gen-d-2011  2015   139568        1248  Diesel   \n",
       "1           1  opel  combo      gen-d-2011  2018    31991        1499  Diesel   \n",
       "2           2  opel  combo      gen-d-2011  2015   278437        1598  Diesel   \n",
       "3           3  opel  combo      gen-d-2011  2016    47600        1248  Diesel   \n",
       "4           4  opel  combo      gen-d-2011  2014   103000        1400     CNG   \n",
       "\n",
       "              city     province  price  \n",
       "0            Janki  Mazowieckie  35900  \n",
       "1         Katowice      Śląskie  78501  \n",
       "2            Brzeg     Opolskie  27000  \n",
       "3        Korfantów     Opolskie  30800  \n",
       "4  Tarnowskie Góry      Śląskie  35900  "
      ]
     },
     "execution_count": 2,
     "metadata": {},
     "output_type": "execute_result"
    }
   ],
   "source": [
    "df = pd.read_csv('C:/Users/serge/Downloads/Car_Prices_Poland_Kaggle.csv/Car_Prices_Poland_Kaggle.csv')\n",
    "df.head()"
   ]
  },
  {
   "cell_type": "code",
   "execution_count": 3,
   "id": "76b036a6-de78-437f-8cf0-d48a744070a0",
   "metadata": {},
   "outputs": [
    {
     "data": {
      "text/plain": [
       "array(['opel', 'audi', 'bmw', 'volkswagen', 'ford', 'mercedes-benz',\n",
       "       'renault', 'toyota', 'skoda', 'alfa-romeo', 'chevrolet', 'citroen',\n",
       "       'fiat', 'honda', 'hyundai', 'kia', 'mazda', 'mini', 'mitsubishi',\n",
       "       'nissan', 'peugeot', 'seat', 'volvo'], dtype=object)"
      ]
     },
     "execution_count": 3,
     "metadata": {},
     "output_type": "execute_result"
    }
   ],
   "source": [
    "df['mark'].unique()"
   ]
  },
  {
   "cell_type": "code",
   "execution_count": 4,
   "id": "f97cd5d8-22f0-45b2-98ff-9419afdf2d5c",
   "metadata": {},
   "outputs": [
    {
     "data": {
      "text/html": [
       "<div>\n",
       "<style scoped>\n",
       "    .dataframe tbody tr th:only-of-type {\n",
       "        vertical-align: middle;\n",
       "    }\n",
       "\n",
       "    .dataframe tbody tr th {\n",
       "        vertical-align: top;\n",
       "    }\n",
       "\n",
       "    .dataframe thead th {\n",
       "        text-align: right;\n",
       "    }\n",
       "</style>\n",
       "<table border=\"1\" class=\"dataframe\">\n",
       "  <thead>\n",
       "    <tr style=\"text-align: right;\">\n",
       "      <th></th>\n",
       "      <th>Unnamed: 0</th>\n",
       "      <th>year</th>\n",
       "      <th>mileage</th>\n",
       "      <th>vol_engine</th>\n",
       "      <th>price</th>\n",
       "    </tr>\n",
       "  </thead>\n",
       "  <tbody>\n",
       "    <tr>\n",
       "      <th>count</th>\n",
       "      <td>117927.000000</td>\n",
       "      <td>117927.000000</td>\n",
       "      <td>1.179270e+05</td>\n",
       "      <td>117927.000000</td>\n",
       "      <td>1.179270e+05</td>\n",
       "    </tr>\n",
       "    <tr>\n",
       "      <th>mean</th>\n",
       "      <td>58963.000000</td>\n",
       "      <td>2012.925259</td>\n",
       "      <td>1.409768e+05</td>\n",
       "      <td>1812.057782</td>\n",
       "      <td>7.029988e+04</td>\n",
       "    </tr>\n",
       "    <tr>\n",
       "      <th>std</th>\n",
       "      <td>34042.736935</td>\n",
       "      <td>5.690135</td>\n",
       "      <td>9.236936e+04</td>\n",
       "      <td>643.613438</td>\n",
       "      <td>8.482458e+04</td>\n",
       "    </tr>\n",
       "    <tr>\n",
       "      <th>min</th>\n",
       "      <td>0.000000</td>\n",
       "      <td>1945.000000</td>\n",
       "      <td>0.000000e+00</td>\n",
       "      <td>0.000000</td>\n",
       "      <td>5.000000e+02</td>\n",
       "    </tr>\n",
       "    <tr>\n",
       "      <th>25%</th>\n",
       "      <td>29481.500000</td>\n",
       "      <td>2009.000000</td>\n",
       "      <td>6.700000e+04</td>\n",
       "      <td>1461.000000</td>\n",
       "      <td>2.100000e+04</td>\n",
       "    </tr>\n",
       "    <tr>\n",
       "      <th>50%</th>\n",
       "      <td>58963.000000</td>\n",
       "      <td>2013.000000</td>\n",
       "      <td>1.462690e+05</td>\n",
       "      <td>1796.000000</td>\n",
       "      <td>4.190000e+04</td>\n",
       "    </tr>\n",
       "    <tr>\n",
       "      <th>75%</th>\n",
       "      <td>88444.500000</td>\n",
       "      <td>2018.000000</td>\n",
       "      <td>2.030000e+05</td>\n",
       "      <td>1995.000000</td>\n",
       "      <td>8.360000e+04</td>\n",
       "    </tr>\n",
       "    <tr>\n",
       "      <th>max</th>\n",
       "      <td>117926.000000</td>\n",
       "      <td>2022.000000</td>\n",
       "      <td>2.800000e+06</td>\n",
       "      <td>7600.000000</td>\n",
       "      <td>2.399900e+06</td>\n",
       "    </tr>\n",
       "  </tbody>\n",
       "</table>\n",
       "</div>"
      ],
      "text/plain": [
       "          Unnamed: 0           year       mileage     vol_engine         price\n",
       "count  117927.000000  117927.000000  1.179270e+05  117927.000000  1.179270e+05\n",
       "mean    58963.000000    2012.925259  1.409768e+05    1812.057782  7.029988e+04\n",
       "std     34042.736935       5.690135  9.236936e+04     643.613438  8.482458e+04\n",
       "min         0.000000    1945.000000  0.000000e+00       0.000000  5.000000e+02\n",
       "25%     29481.500000    2009.000000  6.700000e+04    1461.000000  2.100000e+04\n",
       "50%     58963.000000    2013.000000  1.462690e+05    1796.000000  4.190000e+04\n",
       "75%     88444.500000    2018.000000  2.030000e+05    1995.000000  8.360000e+04\n",
       "max    117926.000000    2022.000000  2.800000e+06    7600.000000  2.399900e+06"
      ]
     },
     "execution_count": 4,
     "metadata": {},
     "output_type": "execute_result"
    }
   ],
   "source": [
    "df.describe()"
   ]
  },
  {
   "cell_type": "code",
   "execution_count": 5,
   "id": "42879fb6-1f8a-489c-b7c1-b02dc85b85d9",
   "metadata": {},
   "outputs": [
    {
     "data": {
      "text/plain": [
       "Unnamed: 0             0\n",
       "mark                   0\n",
       "model                  0\n",
       "generation_name    30085\n",
       "year                   0\n",
       "mileage                0\n",
       "vol_engine             0\n",
       "fuel                   0\n",
       "city                   0\n",
       "province               0\n",
       "price                  0\n",
       "dtype: int64"
      ]
     },
     "execution_count": 5,
     "metadata": {},
     "output_type": "execute_result"
    }
   ],
   "source": [
    "df.isna().sum()"
   ]
  },
  {
   "cell_type": "code",
   "execution_count": 6,
   "id": "ebac39fa-812f-45b8-8729-b4dc2aa990f7",
   "metadata": {},
   "outputs": [],
   "source": [
    "df.drop(columns=[\"generation_name\",\"Unnamed: 0\"],inplace=True) #прибераємо зайві стовпці "
   ]
  },
  {
   "cell_type": "code",
   "execution_count": 7,
   "id": "16ef8f70-33cd-4014-bde4-03cd557a29af",
   "metadata": {},
   "outputs": [
    {
     "data": {
      "text/plain": [
       "mark          0\n",
       "model         0\n",
       "year          0\n",
       "mileage       0\n",
       "vol_engine    0\n",
       "fuel          0\n",
       "city          0\n",
       "province      0\n",
       "price         0\n",
       "dtype: int64"
      ]
     },
     "execution_count": 7,
     "metadata": {},
     "output_type": "execute_result"
    }
   ],
   "source": [
    "df.isna().sum()"
   ]
  },
  {
   "cell_type": "code",
   "execution_count": 8,
   "id": "b3f2bdf2-30ab-4b27-af8e-126fc9a51e41",
   "metadata": {},
   "outputs": [
    {
     "data": {
      "text/plain": [
       "(117927, 9)"
      ]
     },
     "execution_count": 8,
     "metadata": {},
     "output_type": "execute_result"
    }
   ],
   "source": [
    "df.shape"
   ]
  },
  {
   "cell_type": "code",
   "execution_count": 9,
   "id": "2f13bfca-8f59-4ffa-80e6-b3e22e75f003",
   "metadata": {},
   "outputs": [],
   "source": [
    "BMW = df[df['mark'] =='bmw']"
   ]
  },
  {
   "cell_type": "code",
   "execution_count": 10,
   "id": "aa8efe44-d992-4cf4-8cd1-7e468b395d8e",
   "metadata": {
    "tags": []
   },
   "outputs": [
    {
     "data": {
      "text/plain": [
       "array(['3gt', '5gt', 'i3', 'm2', 'm3', 'm4', 'm5', 'm8', 'seria-1',\n",
       "       'seria-2', 'seria-3', 'seria-4', 'seria-5', 'seria-6', 'seria-7',\n",
       "       'seria-8', 'x1', 'x2', 'x3', 'x4', 'x5', 'x5-m', 'x6', 'x6-m',\n",
       "       'x7'], dtype=object)"
      ]
     },
     "execution_count": 10,
     "metadata": {},
     "output_type": "execute_result"
    }
   ],
   "source": [
    "BMW['model'].unique()"
   ]
  },
  {
   "cell_type": "code",
   "execution_count": 11,
   "id": "8bc67bfe-4188-4858-9345-2f25c6c4cc5e",
   "metadata": {},
   "outputs": [
    {
     "data": {
      "text/plain": [
       "(11070, 9)"
      ]
     },
     "execution_count": 11,
     "metadata": {},
     "output_type": "execute_result"
    }
   ],
   "source": [
    "BMW.shape"
   ]
  },
  {
   "cell_type": "code",
   "execution_count": 12,
   "id": "5518f05a-5c05-4b6f-acc6-4cab66fd2330",
   "metadata": {},
   "outputs": [
    {
     "name": "stderr",
     "output_type": "stream",
     "text": [
      "C:\\Users\\serge\\anaconda3\\lib\\site-packages\\seaborn\\_decorators.py:36: FutureWarning: Pass the following variable as a keyword arg: x. From version 0.12, the only valid positional argument will be `data`, and passing other arguments without an explicit keyword will result in an error or misinterpretation.\n",
      "  warnings.warn(\n"
     ]
    },
    {
     "data": {
      "image/png": "[encoded data removed]",
      "text/plain": [
       "<Figure size 1440x504 with 1 Axes>"
      ]
     },
     "metadata": {
      "needs_background": "light"
     },
     "output_type": "display_data"
    }
   ],
   "source": [
    "# 10% від основної вибірки, не погано \n",
    "plt.figure(figsize=(20,7))\n",
    "sns.countplot(BMW['model'])\n",
    "plt.show()"
   ]
  },
  {
   "cell_type": "code",
   "execution_count": 13,
   "id": "6e6764f7-dd63-4e0e-ae3e-c71a947983a3",
   "metadata": {},
   "outputs": [],
   "source": [
    "# Як ми можемо бачити 3-ка та 5-ка БМВ найпопулярніші, нічого нового)"
   ]
  },
  {
   "cell_type": "code",
   "execution_count": 14,
   "id": "5ac5119c-079f-432b-b560-ac2570d2abea",
   "metadata": {},
   "outputs": [
    {
     "data": {
      "text/plain": [
       "<AxesSubplot:xlabel='vol_engine', ylabel='price'>"
      ]
     },
     "execution_count": 14,
     "metadata": {},
     "output_type": "execute_result"
    },
    {
     "data": {
      "image/png": "[encoded data removed]",
      "text/plain": [
       "<Figure size 1224x576 with 1 Axes>"
      ]
     },
     "metadata": {
      "needs_background": "light"
     },
     "output_type": "display_data"
    }
   ],
   "source": [
    "# давайте подивимося, як зміниться ціна при збільшенні об'єму двигуна\n",
    "plt.figure(figsize=(17,8))\n",
    "sns.lineplot(data=BMW,x=\"vol_engine\",y=\"price\")"
   ]
  },
  {
   "cell_type": "code",
   "execution_count": 15,
   "id": "a14a2725-a92e-45a0-9ba7-a43b5f1ca1cb",
   "metadata": {},
   "outputs": [
    {
     "data": {
      "text/html": [
       "<div>\n",
       "<style scoped>\n",
       "    .dataframe tbody tr th:only-of-type {\n",
       "        vertical-align: middle;\n",
       "    }\n",
       "\n",
       "    .dataframe tbody tr th {\n",
       "        vertical-align: top;\n",
       "    }\n",
       "\n",
       "    .dataframe thead th {\n",
       "        text-align: right;\n",
       "    }\n",
       "</style>\n",
       "<table border=\"1\" class=\"dataframe\">\n",
       "  <thead>\n",
       "    <tr style=\"text-align: right;\">\n",
       "      <th></th>\n",
       "      <th>mark</th>\n",
       "      <th>model</th>\n",
       "      <th>year</th>\n",
       "      <th>mileage</th>\n",
       "      <th>vol_engine</th>\n",
       "      <th>fuel</th>\n",
       "      <th>city</th>\n",
       "      <th>province</th>\n",
       "      <th>price</th>\n",
       "    </tr>\n",
       "  </thead>\n",
       "  <tbody>\n",
       "    <tr>\n",
       "      <th>24440</th>\n",
       "      <td>bmw</td>\n",
       "      <td>m5</td>\n",
       "      <td>2021</td>\n",
       "      <td>14450</td>\n",
       "      <td>4395</td>\n",
       "      <td>Gasoline</td>\n",
       "      <td>Warszawa</td>\n",
       "      <td>Mazowieckie</td>\n",
       "      <td>939900</td>\n",
       "    </tr>\n",
       "    <tr>\n",
       "      <th>24441</th>\n",
       "      <td>bmw</td>\n",
       "      <td>m5</td>\n",
       "      <td>2021</td>\n",
       "      <td>5</td>\n",
       "      <td>4395</td>\n",
       "      <td>Gasoline</td>\n",
       "      <td>Warszawa</td>\n",
       "      <td>Mazowieckie</td>\n",
       "      <td>749900</td>\n",
       "    </tr>\n",
       "    <tr>\n",
       "      <th>24450</th>\n",
       "      <td>bmw</td>\n",
       "      <td>m5</td>\n",
       "      <td>2021</td>\n",
       "      <td>5</td>\n",
       "      <td>4395</td>\n",
       "      <td>Gasoline</td>\n",
       "      <td>Łódź</td>\n",
       "      <td>Łódzkie</td>\n",
       "      <td>788800</td>\n",
       "    </tr>\n",
       "    <tr>\n",
       "      <th>24451</th>\n",
       "      <td>bmw</td>\n",
       "      <td>m5</td>\n",
       "      <td>2021</td>\n",
       "      <td>6</td>\n",
       "      <td>4395</td>\n",
       "      <td>Gasoline</td>\n",
       "      <td>Kielce</td>\n",
       "      <td>Świętokrzyskie</td>\n",
       "      <td>800400</td>\n",
       "    </tr>\n",
       "    <tr>\n",
       "      <th>24460</th>\n",
       "      <td>bmw</td>\n",
       "      <td>m5</td>\n",
       "      <td>2021</td>\n",
       "      <td>20</td>\n",
       "      <td>4395</td>\n",
       "      <td>Gasoline</td>\n",
       "      <td>Mikołów</td>\n",
       "      <td>Śląskie</td>\n",
       "      <td>784100</td>\n",
       "    </tr>\n",
       "    <tr>\n",
       "      <th>...</th>\n",
       "      <td>...</td>\n",
       "      <td>...</td>\n",
       "      <td>...</td>\n",
       "      <td>...</td>\n",
       "      <td>...</td>\n",
       "      <td>...</td>\n",
       "      <td>...</td>\n",
       "      <td>...</td>\n",
       "      <td>...</td>\n",
       "    </tr>\n",
       "    <tr>\n",
       "      <th>34924</th>\n",
       "      <td>bmw</td>\n",
       "      <td>x6-m</td>\n",
       "      <td>2021</td>\n",
       "      <td>20</td>\n",
       "      <td>4395</td>\n",
       "      <td>Gasoline</td>\n",
       "      <td>Mikołów</td>\n",
       "      <td>Śląskie</td>\n",
       "      <td>779300</td>\n",
       "    </tr>\n",
       "    <tr>\n",
       "      <th>34935</th>\n",
       "      <td>bmw</td>\n",
       "      <td>x6-m</td>\n",
       "      <td>2021</td>\n",
       "      <td>20</td>\n",
       "      <td>4395</td>\n",
       "      <td>Gasoline</td>\n",
       "      <td>Mikołów</td>\n",
       "      <td>Śląskie</td>\n",
       "      <td>769900</td>\n",
       "    </tr>\n",
       "    <tr>\n",
       "      <th>34942</th>\n",
       "      <td>bmw</td>\n",
       "      <td>x6-m</td>\n",
       "      <td>2021</td>\n",
       "      <td>1</td>\n",
       "      <td>4395</td>\n",
       "      <td>Gasoline</td>\n",
       "      <td>Poznań</td>\n",
       "      <td>Wielkopolskie</td>\n",
       "      <td>719000</td>\n",
       "    </tr>\n",
       "    <tr>\n",
       "      <th>34946</th>\n",
       "      <td>bmw</td>\n",
       "      <td>x6-m</td>\n",
       "      <td>2022</td>\n",
       "      <td>20</td>\n",
       "      <td>4395</td>\n",
       "      <td>Gasoline</td>\n",
       "      <td>Gdańsk</td>\n",
       "      <td>Pomorskie</td>\n",
       "      <td>1100000</td>\n",
       "    </tr>\n",
       "    <tr>\n",
       "      <th>34994</th>\n",
       "      <td>bmw</td>\n",
       "      <td>x7</td>\n",
       "      <td>2021</td>\n",
       "      <td>20</td>\n",
       "      <td>4395</td>\n",
       "      <td>Gasoline</td>\n",
       "      <td>Mikołów</td>\n",
       "      <td>Śląskie</td>\n",
       "      <td>716900</td>\n",
       "    </tr>\n",
       "  </tbody>\n",
       "</table>\n",
       "<p>65 rows × 9 columns</p>\n",
       "</div>"
      ],
      "text/plain": [
       "      mark model  year  mileage  vol_engine      fuel      city  \\\n",
       "24440  bmw    m5  2021    14450        4395  Gasoline  Warszawa   \n",
       "24441  bmw    m5  2021        5        4395  Gasoline  Warszawa   \n",
       "24450  bmw    m5  2021        5        4395  Gasoline      Łódź   \n",
       "24451  bmw    m5  2021        6        4395  Gasoline    Kielce   \n",
       "24460  bmw    m5  2021       20        4395  Gasoline   Mikołów   \n",
       "...    ...   ...   ...      ...         ...       ...       ...   \n",
       "34924  bmw  x6-m  2021       20        4395  Gasoline   Mikołów   \n",
       "34935  bmw  x6-m  2021       20        4395  Gasoline   Mikołów   \n",
       "34942  bmw  x6-m  2021        1        4395  Gasoline    Poznań   \n",
       "34946  bmw  x6-m  2022       20        4395  Gasoline    Gdańsk   \n",
       "34994  bmw    x7  2021       20        4395  Gasoline   Mikołów   \n",
       "\n",
       "             province    price  \n",
       "24440     Mazowieckie   939900  \n",
       "24441     Mazowieckie   749900  \n",
       "24450         Łódzkie   788800  \n",
       "24451  Świętokrzyskie   800400  \n",
       "24460         Śląskie   784100  \n",
       "...               ...      ...  \n",
       "34924         Śląskie   779300  \n",
       "34935         Śląskie   769900  \n",
       "34942   Wielkopolskie   719000  \n",
       "34946       Pomorskie  1100000  \n",
       "34994         Śląskie   716900  \n",
       "\n",
       "[65 rows x 9 columns]"
      ]
     },
     "execution_count": 15,
     "metadata": {},
     "output_type": "execute_result"
    }
   ],
   "source": [
    "#Як і очікувалось, при збільшенні об'єма двигуна зростає ціна\n",
    "BMW[(BMW['price'] > 710000) & (BMW['vol_engine'] >= 4000)]"
   ]
  },
  {
   "cell_type": "code",
   "execution_count": 16,
   "id": "404bc927-5488-4fca-9473-3d73717e249b",
   "metadata": {},
   "outputs": [
    {
     "data": {
      "text/plain": [
       "fuel\n",
       "LPG          21364.800000\n",
       "Diesel      115000.963880\n",
       "Gasoline    131591.806803\n",
       "Electric    140506.013333\n",
       "Hybrid      279537.100000\n",
       "Name: price, dtype: float64"
      ]
     },
     "execution_count": 16,
     "metadata": {},
     "output_type": "execute_result"
    }
   ],
   "source": [
    "group=BMW.groupby(\"fuel\")[\"price\"].mean()\n",
    "group.sort_values()"
   ]
  },
  {
   "cell_type": "code",
   "execution_count": 17,
   "id": "28934af7-e9e7-4618-90a0-a182f64e7d2d",
   "metadata": {},
   "outputs": [
    {
     "data": {
      "text/html": [
       "<div>\n",
       "<style scoped>\n",
       "    .dataframe tbody tr th:only-of-type {\n",
       "        vertical-align: middle;\n",
       "    }\n",
       "\n",
       "    .dataframe tbody tr th {\n",
       "        vertical-align: top;\n",
       "    }\n",
       "\n",
       "    .dataframe thead th {\n",
       "        text-align: right;\n",
       "    }\n",
       "</style>\n",
       "<table border=\"1\" class=\"dataframe\">\n",
       "  <thead>\n",
       "    <tr style=\"text-align: right;\">\n",
       "      <th></th>\n",
       "      <th>mark</th>\n",
       "      <th>model</th>\n",
       "      <th>year</th>\n",
       "      <th>mileage</th>\n",
       "      <th>vol_engine</th>\n",
       "      <th>fuel</th>\n",
       "      <th>city</th>\n",
       "      <th>province</th>\n",
       "      <th>price</th>\n",
       "    </tr>\n",
       "  </thead>\n",
       "  <tbody>\n",
       "    <tr>\n",
       "      <th>28461</th>\n",
       "      <td>bmw</td>\n",
       "      <td>seria-3</td>\n",
       "      <td>2021</td>\n",
       "      <td>1</td>\n",
       "      <td>1998</td>\n",
       "      <td>Hybrid</td>\n",
       "      <td>Chorzów</td>\n",
       "      <td>Śląskie</td>\n",
       "      <td>217600</td>\n",
       "    </tr>\n",
       "    <tr>\n",
       "      <th>28468</th>\n",
       "      <td>bmw</td>\n",
       "      <td>seria-3</td>\n",
       "      <td>2021</td>\n",
       "      <td>5</td>\n",
       "      <td>1998</td>\n",
       "      <td>Hybrid</td>\n",
       "      <td>Łódź</td>\n",
       "      <td>Łódzkie</td>\n",
       "      <td>266100</td>\n",
       "    </tr>\n",
       "    <tr>\n",
       "      <th>28514</th>\n",
       "      <td>bmw</td>\n",
       "      <td>seria-3</td>\n",
       "      <td>2021</td>\n",
       "      <td>0</td>\n",
       "      <td>0</td>\n",
       "      <td>Hybrid</td>\n",
       "      <td>Wrocław</td>\n",
       "      <td>Dolnośląskie</td>\n",
       "      <td>249900</td>\n",
       "    </tr>\n",
       "    <tr>\n",
       "      <th>28517</th>\n",
       "      <td>bmw</td>\n",
       "      <td>seria-3</td>\n",
       "      <td>2021</td>\n",
       "      <td>9900</td>\n",
       "      <td>1998</td>\n",
       "      <td>Hybrid</td>\n",
       "      <td>Mikołów</td>\n",
       "      <td>Śląskie</td>\n",
       "      <td>179900</td>\n",
       "    </tr>\n",
       "    <tr>\n",
       "      <th>28519</th>\n",
       "      <td>bmw</td>\n",
       "      <td>seria-3</td>\n",
       "      <td>2021</td>\n",
       "      <td>6000</td>\n",
       "      <td>1998</td>\n",
       "      <td>Hybrid</td>\n",
       "      <td>Kraków</td>\n",
       "      <td>Małopolskie</td>\n",
       "      <td>221035</td>\n",
       "    </tr>\n",
       "    <tr>\n",
       "      <th>...</th>\n",
       "      <td>...</td>\n",
       "      <td>...</td>\n",
       "      <td>...</td>\n",
       "      <td>...</td>\n",
       "      <td>...</td>\n",
       "      <td>...</td>\n",
       "      <td>...</td>\n",
       "      <td>...</td>\n",
       "      <td>...</td>\n",
       "    </tr>\n",
       "    <tr>\n",
       "      <th>34582</th>\n",
       "      <td>bmw</td>\n",
       "      <td>x5</td>\n",
       "      <td>2021</td>\n",
       "      <td>5</td>\n",
       "      <td>2998</td>\n",
       "      <td>Hybrid</td>\n",
       "      <td>Kalisz</td>\n",
       "      <td>Wielkopolskie</td>\n",
       "      <td>438600</td>\n",
       "    </tr>\n",
       "    <tr>\n",
       "      <th>34587</th>\n",
       "      <td>bmw</td>\n",
       "      <td>x5</td>\n",
       "      <td>2021</td>\n",
       "      <td>5</td>\n",
       "      <td>2998</td>\n",
       "      <td>Hybrid</td>\n",
       "      <td>Warszawa</td>\n",
       "      <td>Mazowieckie</td>\n",
       "      <td>388500</td>\n",
       "    </tr>\n",
       "    <tr>\n",
       "      <th>34588</th>\n",
       "      <td>bmw</td>\n",
       "      <td>x5</td>\n",
       "      <td>2021</td>\n",
       "      <td>10700</td>\n",
       "      <td>2998</td>\n",
       "      <td>Hybrid</td>\n",
       "      <td>Warszawa</td>\n",
       "      <td>Mazowieckie</td>\n",
       "      <td>406900</td>\n",
       "    </tr>\n",
       "    <tr>\n",
       "      <th>34595</th>\n",
       "      <td>bmw</td>\n",
       "      <td>x5</td>\n",
       "      <td>2021</td>\n",
       "      <td>5</td>\n",
       "      <td>2998</td>\n",
       "      <td>Hybrid</td>\n",
       "      <td>Długołęka</td>\n",
       "      <td>Dolnośląskie</td>\n",
       "      <td>450000</td>\n",
       "    </tr>\n",
       "    <tr>\n",
       "      <th>34596</th>\n",
       "      <td>bmw</td>\n",
       "      <td>x5</td>\n",
       "      <td>2021</td>\n",
       "      <td>6</td>\n",
       "      <td>2998</td>\n",
       "      <td>Hybrid</td>\n",
       "      <td>Libertów</td>\n",
       "      <td>Małopolskie</td>\n",
       "      <td>369000</td>\n",
       "    </tr>\n",
       "  </tbody>\n",
       "</table>\n",
       "<p>178 rows × 9 columns</p>\n",
       "</div>"
      ],
      "text/plain": [
       "      mark    model  year  mileage  vol_engine    fuel       city  \\\n",
       "28461  bmw  seria-3  2021        1        1998  Hybrid    Chorzów   \n",
       "28468  bmw  seria-3  2021        5        1998  Hybrid       Łódź   \n",
       "28514  bmw  seria-3  2021        0           0  Hybrid    Wrocław   \n",
       "28517  bmw  seria-3  2021     9900        1998  Hybrid    Mikołów   \n",
       "28519  bmw  seria-3  2021     6000        1998  Hybrid     Kraków   \n",
       "...    ...      ...   ...      ...         ...     ...        ...   \n",
       "34582  bmw       x5  2021        5        2998  Hybrid     Kalisz   \n",
       "34587  bmw       x5  2021        5        2998  Hybrid   Warszawa   \n",
       "34588  bmw       x5  2021    10700        2998  Hybrid   Warszawa   \n",
       "34595  bmw       x5  2021        5        2998  Hybrid  Długołęka   \n",
       "34596  bmw       x5  2021        6        2998  Hybrid   Libertów   \n",
       "\n",
       "            province   price  \n",
       "28461        Śląskie  217600  \n",
       "28468        Łódzkie  266100  \n",
       "28514   Dolnośląskie  249900  \n",
       "28517        Śląskie  179900  \n",
       "28519    Małopolskie  221035  \n",
       "...              ...     ...  \n",
       "34582  Wielkopolskie  438600  \n",
       "34587    Mazowieckie  388500  \n",
       "34588    Mazowieckie  406900  \n",
       "34595   Dolnośląskie  450000  \n",
       "34596    Małopolskie  369000  \n",
       "\n",
       "[178 rows x 9 columns]"
      ]
     },
     "execution_count": 17,
     "metadata": {},
     "output_type": "execute_result"
    }
   ],
   "source": [
    "# Як ми бачемо машини на гібридних двигунах найбільш дорогі.\n",
    "BMW[(BMW['fuel'] == 'Hybrid') & (BMW['year'] >= 2021)]"
   ]
  },
  {
   "cell_type": "code",
   "execution_count": 24,
   "id": "252c9816-6614-4348-90f4-7076c6c00ea1",
   "metadata": {},
   "outputs": [],
   "source": [
    "#Трішки пограємо з машинками\n",
    "from sklearn.preprocessing import LabelEncoder\n",
    "from sklearn.linear_model import LinearRegression\n",
    "from sklearn.ensemble import RandomForestRegressor\n",
    "from sklearn.tree import DecisionTreeClassifier,DecisionTreeRegressor\n",
    "from sklearn.neighbors import KNeighborsRegressor\n",
    "from sklearn.model_selection import train_test_split\n",
    "from sklearn.metrics import mean_absolute_error ,mean_squared_error, median_absolute_error,confusion_matrix,accuracy_score,r2_score"
   ]
  },
  {
   "cell_type": "code",
   "execution_count": 20,
   "id": "fce3959e-a4c8-45af-90af-c9eb531999a5",
   "metadata": {},
   "outputs": [
    {
     "name": "stderr",
     "output_type": "stream",
     "text": [
      "C:\\Users\\serge\\AppData\\Local\\Temp/ipykernel_7744/3314146548.py:3: SettingWithCopyWarning: \n",
      "A value is trying to be set on a copy of a slice from a DataFrame.\n",
      "Try using .loc[row_indexer,col_indexer] = value instead\n",
      "\n",
      "See the caveats in the documentation: https://pandas.pydata.org/pandas-docs/stable/user_guide/indexing.html#returning-a-view-versus-a-copy\n",
      "  BMW[\"Model\"]=LE.transform(BMW[\"model\"])\n",
      "C:\\Users\\serge\\AppData\\Local\\Temp/ipykernel_7744/3314146548.py:8: SettingWithCopyWarning: \n",
      "A value is trying to be set on a copy of a slice from a DataFrame.\n",
      "Try using .loc[row_indexer,col_indexer] = value instead\n",
      "\n",
      "See the caveats in the documentation: https://pandas.pydata.org/pandas-docs/stable/user_guide/indexing.html#returning-a-view-versus-a-copy\n",
      "  BMW[\"Fuel\"]=LE2.transform(BMW[\"fuel\"])\n",
      "C:\\Users\\serge\\anaconda3\\lib\\site-packages\\pandas\\core\\frame.py:4906: SettingWithCopyWarning: \n",
      "A value is trying to be set on a copy of a slice from a DataFrame\n",
      "\n",
      "See the caveats in the documentation: https://pandas.pydata.org/pandas-docs/stable/user_guide/indexing.html#returning-a-view-versus-a-copy\n",
      "  return super().drop(\n"
     ]
    },
    {
     "data": {
      "text/html": [
       "<div>\n",
       "<style scoped>\n",
       "    .dataframe tbody tr th:only-of-type {\n",
       "        vertical-align: middle;\n",
       "    }\n",
       "\n",
       "    .dataframe tbody tr th {\n",
       "        vertical-align: top;\n",
       "    }\n",
       "\n",
       "    .dataframe thead th {\n",
       "        text-align: right;\n",
       "    }\n",
       "</style>\n",
       "<table border=\"1\" class=\"dataframe\">\n",
       "  <thead>\n",
       "    <tr style=\"text-align: right;\">\n",
       "      <th></th>\n",
       "      <th>year</th>\n",
       "      <th>mileage</th>\n",
       "      <th>vol_engine</th>\n",
       "      <th>price</th>\n",
       "      <th>Model</th>\n",
       "      <th>Fuel</th>\n",
       "    </tr>\n",
       "  </thead>\n",
       "  <tbody>\n",
       "    <tr>\n",
       "      <th>23945</th>\n",
       "      <td>2015</td>\n",
       "      <td>330000</td>\n",
       "      <td>1995</td>\n",
       "      <td>57900</td>\n",
       "      <td>0</td>\n",
       "      <td>0</td>\n",
       "    </tr>\n",
       "    <tr>\n",
       "      <th>23946</th>\n",
       "      <td>2017</td>\n",
       "      <td>79665</td>\n",
       "      <td>1995</td>\n",
       "      <td>142000</td>\n",
       "      <td>0</td>\n",
       "      <td>0</td>\n",
       "    </tr>\n",
       "    <tr>\n",
       "      <th>23947</th>\n",
       "      <td>2014</td>\n",
       "      <td>79160</td>\n",
       "      <td>1995</td>\n",
       "      <td>91700</td>\n",
       "      <td>0</td>\n",
       "      <td>0</td>\n",
       "    </tr>\n",
       "    <tr>\n",
       "      <th>23948</th>\n",
       "      <td>2015</td>\n",
       "      <td>223000</td>\n",
       "      <td>1995</td>\n",
       "      <td>54900</td>\n",
       "      <td>0</td>\n",
       "      <td>0</td>\n",
       "    </tr>\n",
       "    <tr>\n",
       "      <th>23949</th>\n",
       "      <td>2018</td>\n",
       "      <td>179000</td>\n",
       "      <td>1995</td>\n",
       "      <td>92700</td>\n",
       "      <td>0</td>\n",
       "      <td>0</td>\n",
       "    </tr>\n",
       "  </tbody>\n",
       "</table>\n",
       "</div>"
      ],
      "text/plain": [
       "       year  mileage  vol_engine   price  Model  Fuel\n",
       "23945  2015   330000        1995   57900      0     0\n",
       "23946  2017    79665        1995  142000      0     0\n",
       "23947  2014    79160        1995   91700      0     0\n",
       "23948  2015   223000        1995   54900      0     0\n",
       "23949  2018   179000        1995   92700      0     0"
      ]
     },
     "execution_count": 20,
     "metadata": {},
     "output_type": "execute_result"
    }
   ],
   "source": [
    "LE=LabelEncoder()\n",
    "LE.fit(BMW[\"model\"])\n",
    "BMW[\"Model\"]=LE.transform(BMW[\"model\"])\n",
    "\n",
    "LE2=LabelEncoder()\n",
    "\n",
    "LE2.fit(BMW[\"fuel\"])\n",
    "BMW[\"Fuel\"]=LE2.transform(BMW[\"fuel\"])\n",
    "\n",
    "BMW.drop(columns=[\"mark\",\"model\",\"fuel\",\"city\",\"province\"],axis=1 ,inplace=True )#прибираємо зайві стовпці\n",
    "\n",
    "BMW.head() "
   ]
  },
  {
   "cell_type": "code",
   "execution_count": 21,
   "id": "849d5f2a-7bf8-4994-8182-3b71a2d9ee65",
   "metadata": {},
   "outputs": [
    {
     "name": "stdout",
     "output_type": "stream",
     "text": [
      "X Train :  (8302, 5)\n",
      "X Test  :  (2768, 5)\n",
      "Y Train :  (8302,)\n",
      "Y Test  :  (2768,)\n"
     ]
    }
   ],
   "source": [
    "X = BMW.drop(columns=\"price\")           \n",
    "y = BMW[\"price\"]   \n",
    "\n",
    "# розділемо данні та треін та тест, і зробемо перевірку\n",
    "X_train, X_test, y_train, y_test = train_test_split(X, y, test_size=0.25, random_state=42)\n",
    "\n",
    "print(\"X Train : \", X_train.shape)\n",
    "print(\"X Test  : \", X_test.shape)\n",
    "print(\"Y Train : \", y_train.shape)\n",
    "print(\"Y Test  : \", y_test.shape)"
   ]
  },
  {
   "cell_type": "code",
   "execution_count": 23,
   "id": "1b14933c-3324-432e-b479-1c792b89a769",
   "metadata": {},
   "outputs": [
    {
     "name": "stdout",
     "output_type": "stream",
     "text": [
      "Score the X-train with Y-train is :  0.6863242399566789\n",
      "Score the X-test  with Y-test  is :  0.6774383209200581\n",
      " Model Evaluation Linear R : mean absolute error is  52285.904861829054\n",
      " Model Evaluation Linear R : mean squared  error is  6101924362.625044\n",
      " Model Evaluation Linear R : median absolute error is  38319.96725437045\n",
      " The Score Linear Regression  0.6774383209200581\n"
     ]
    }
   ],
   "source": [
    "# ну як без лінійки то?)\n",
    "LinearRegression_model=LinearRegression(fit_intercept=True,normalize=False,copy_X=True, n_jobs=None)\n",
    "\n",
    "# Вчимо моділь\n",
    "\n",
    "LinearRegression_model.fit(X_train,y_train)\n",
    "\n",
    "# Оцінка X і Y - тест і тренування\n",
    "\n",
    "print(\"Score the X-train with Y-train is : \", LinearRegression_model.score(X_train,y_train))\n",
    "print(\"Score the X-test  with Y-test  is : \", LinearRegression_model.score(X_test,y_test))\n",
    "\n",
    "y_pred_LR=LinearRegression_model.predict(X_test)\n",
    "\n",
    "print( \" Model Evaluation Linear R : mean absolute error is \", mean_absolute_error(y_test,y_pred_LR))\n",
    "print(\" Model Evaluation Linear R : mean squared  error is \" , mean_squared_error(y_test,y_pred_LR))\n",
    "print(\" Model Evaluation Linear R : median absolute error is \" ,median_absolute_error(y_test,y_pred_LR)) \n",
    "\n",
    "print(\" The Score Linear Regression \" ,r2_score(y_test,y_pred_LR)) "
   ]
  },
  {
   "cell_type": "code",
   "execution_count": null,
   "id": "09d72bef-c363-44c9-9fcb-5b8d49aa86bc",
   "metadata": {},
   "outputs": [],
   "source": [
    "# Величезні помилки..., алє скор не такий поганий))"
   ]
  },
  {
   "cell_type": "code",
   "execution_count": 25,
   "id": "531e8207-f5f6-49a9-8c53-7d6c4c236b4e",
   "metadata": {},
   "outputs": [
    {
     "name": "stdout",
     "output_type": "stream",
     "text": [
      "Score the X-train with Y-train is :  0.9928128728586574\n",
      "Score the X-test  with Y-test  is :  0.9323220446802427\n",
      " The Score Decision Tree Regressor model  0.9323220446802427\n"
     ]
    }
   ],
   "source": [
    "# Викорастаємо Дерево рішень\n",
    "\n",
    "DecisionTreeRegressor_model=DecisionTreeRegressor()\n",
    "\n",
    "# Вчимо моділь\n",
    "\n",
    "DecisionTreeRegressor_model.fit(X_train,y_train)\n",
    "\n",
    "# Оцінка X і Y - тест і тренування\n",
    "\n",
    "print(\"Score the X-train with Y-train is : \", DecisionTreeRegressor_model.score(X_train,y_train))\n",
    "print(\"Score the X-test  with Y-test  is : \", DecisionTreeRegressor_model.score(X_test,y_test))\n",
    "\n",
    "y_predDTR=DecisionTreeRegressor_model.predict(X_test)\n",
    "\n",
    "print(\" The Score Decision Tree Regressor model \" ,r2_score(y_test,y_predDTR))"
   ]
  },
  {
   "cell_type": "code",
   "execution_count": null,
   "id": "2dcbe96a-7d1a-4567-a54e-f1a61c4146f6",
   "metadata": {},
   "outputs": [],
   "source": [
    "# Схоже шо дерево дало збой та перевчилося, алє 93% доволі круто "
   ]
  },
  {
   "cell_type": "code",
   "execution_count": 26,
   "id": "77b61ea5-8502-4777-9636-c0e139eadb9c",
   "metadata": {},
   "outputs": [
    {
     "name": "stdout",
     "output_type": "stream",
     "text": [
      "Score the X-train with Y-train is :  0.9928128728586574\n",
      "Score the X-test  with Y-test  is :  0.9323220446802427\n",
      " The Score K Neighbors Regressor Model  0.8607256030264684\n"
     ]
    }
   ],
   "source": [
    "# Викорастаємо  модель К Сусідів\n",
    "\n",
    "KNeighborsRegressor_model=KNeighborsRegressor(n_neighbors=5,weights='uniform',algorithm='auto',leaf_size=30,\n",
    "    p=2,\n",
    "    metric='minkowski',\n",
    "    metric_params=None,\n",
    "    n_jobs=None)\n",
    "\n",
    "# Вчимо моділь\n",
    "\n",
    "KNeighborsRegressor_model.fit(X_train,y_train)\n",
    "\n",
    "# Оцінка X і Y - тест і тренування\n",
    "\n",
    "print(\"Score the X-train with Y-train is : \", DecisionTreeRegressor_model.score(X_train,y_train))\n",
    "print(\"Score the X-test  with Y-test  is : \", DecisionTreeRegressor_model.score(X_test,y_test))\n",
    "\n",
    "y_predKN=KNeighborsRegressor_model.predict(X_test)\n",
    "\n",
    "print(\" The Score K Neighbors Regressor Model \" ,r2_score(y_test,y_predKN)) "
   ]
  },
  {
   "cell_type": "code",
   "execution_count": null,
   "id": "c62e2b1a-b93d-46fc-b507-f88c91229aea",
   "metadata": {},
   "outputs": [],
   "source": [
    "#KNN теж перевчилася ( алє всеж таки 93% на рівні з деревом"
   ]
  },
  {
   "cell_type": "code",
   "execution_count": 27,
   "id": "c760504b-1c6b-49c7-a179-e55b307b0c15",
   "metadata": {},
   "outputs": [
    {
     "name": "stdout",
     "output_type": "stream",
     "text": [
      "Score the X-train with Y-train is :  0.9867858887263942\n",
      "Score the X-test  with Y-test  is :  0.9481728190855301\n",
      " The Score Random Forest Regressor Model  0.9481728190855301\n"
     ]
    }
   ],
   "source": [
    "# Викорастаємо Рандомний ліс\n",
    "\n",
    "RandomForestRegressor_model=RandomForestRegressor()\n",
    "\n",
    "# Вчимо моділь\n",
    "\n",
    "RandomForestRegressor_model.fit(X_train,y_train)\n",
    "\n",
    "# Оцінка X і Y - тест і тренування\n",
    "\n",
    "print(\"Score the X-train with Y-train is : \", RandomForestRegressor_model.score(X_train,y_train))\n",
    "print(\"Score the X-test  with Y-test  is : \", RandomForestRegressor_model.score(X_test,y_test))\n",
    "\n",
    "y_predRFR=RandomForestRegressor_model.predict(X_test)\n",
    "\n",
    "print(\" The Score Random Forest Regressor Model \" ,r2_score(y_test,y_predRFR)) "
   ]
  },
  {
   "cell_type": "code",
   "execution_count": null,
   "id": "1ca699f6-4f9e-4e47-b8c6-2c6245c966fb",
   "metadata": {},
   "outputs": [],
   "source": [
    "# На мій погляд ліс справився краще всього, він і не перевчився та щей дав кращій скор на віході по тесту 94%"
   ]
  },
  {
   "cell_type": "code",
   "execution_count": null,
   "id": "2a072482-6880-45af-bebc-331d8a579e5c",
   "metadata": {},
   "outputs": [],
   "source": [
    "# Всім гарного дня та мирного неба над головою."
   ]
  }
 ],
 "metadata": {
  "kernelspec": {
   "display_name": "Python 3 (ipykernel)",
   "language": "python",
   "name": "python3"
  },
  "language_info": {
   "codemirror_mode": {
    "name": "ipython",
    "version": 3
   },
   "file_extension": ".py",
   "mimetype": "text/x-python",
   "name": "python",
   "nbconvert_exporter": "python",
   "pygments_lexer": "ipython3",
   "version": "3.9.7"
  }
 },
 "nbformat": 4,
 "nbformat_minor": 5
}
